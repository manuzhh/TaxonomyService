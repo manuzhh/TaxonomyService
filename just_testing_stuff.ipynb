{
 "cells": [
  {
   "cell_type": "code",
   "execution_count": 1,
   "metadata": {},
   "outputs": [],
   "source": [
    "# Testing other stuff..."
   ]
  },
  {
   "cell_type": "code",
   "execution_count": 5,
   "metadata": {},
   "outputs": [],
   "source": [
    "source_text = 'Hallo, ein Text. Ja, genau, hör dir diesen Text an!'\n",
    "text = source_text\n",
    "idx=0\n",
    "while idx < 1000:\n",
    "    text = text + ' ' + source_text\n",
    "    idx=idx+1\n",
    "str_list = list()\n",
    "int_list = list()\n",
    "idx=0\n",
    "while idx < 5:\n",
    "    str_list.append(text)\n",
    "    int_list.append(idx)\n",
    "    idx=idx+1"
   ]
  },
  {
   "cell_type": "code",
   "execution_count": 6,
   "metadata": {},
   "outputs": [
    {
     "data": {
      "text/html": [
       "<div>\n",
       "<style scoped>\n",
       "    .dataframe tbody tr th:only-of-type {\n",
       "        vertical-align: middle;\n",
       "    }\n",
       "\n",
       "    .dataframe tbody tr th {\n",
       "        vertical-align: top;\n",
       "    }\n",
       "\n",
       "    .dataframe thead th {\n",
       "        text-align: right;\n",
       "    }\n",
       "</style>\n",
       "<table border=\"1\" class=\"dataframe\">\n",
       "  <thead>\n",
       "    <tr style=\"text-align: right;\">\n",
       "      <th></th>\n",
       "      <th>text</th>\n",
       "    </tr>\n",
       "  </thead>\n",
       "  <tbody>\n",
       "    <tr>\n",
       "      <td>0</td>\n",
       "      <td>Hallo, ein Text. Ja, genau, hör dir diesen Tex...</td>\n",
       "    </tr>\n",
       "    <tr>\n",
       "      <td>1</td>\n",
       "      <td>Hallo, ein Text. Ja, genau, hör dir diesen Tex...</td>\n",
       "    </tr>\n",
       "    <tr>\n",
       "      <td>2</td>\n",
       "      <td>Hallo, ein Text. Ja, genau, hör dir diesen Tex...</td>\n",
       "    </tr>\n",
       "    <tr>\n",
       "      <td>3</td>\n",
       "      <td>Hallo, ein Text. Ja, genau, hör dir diesen Tex...</td>\n",
       "    </tr>\n",
       "    <tr>\n",
       "      <td>4</td>\n",
       "      <td>Hallo, ein Text. Ja, genau, hör dir diesen Tex...</td>\n",
       "    </tr>\n",
       "  </tbody>\n",
       "</table>\n",
       "</div>"
      ],
      "text/plain": [
       "                                                text\n",
       "0  Hallo, ein Text. Ja, genau, hör dir diesen Tex...\n",
       "1  Hallo, ein Text. Ja, genau, hör dir diesen Tex...\n",
       "2  Hallo, ein Text. Ja, genau, hör dir diesen Tex...\n",
       "3  Hallo, ein Text. Ja, genau, hör dir diesen Tex...\n",
       "4  Hallo, ein Text. Ja, genau, hör dir diesen Tex..."
      ]
     },
     "execution_count": 6,
     "metadata": {},
     "output_type": "execute_result"
    }
   ],
   "source": [
    "import pandas as pd\n",
    "data_frame = pd.DataFrame(str_list, columns=['text'])\n",
    "data_frame"
   ]
  },
  {
   "cell_type": "code",
   "execution_count": 7,
   "metadata": {},
   "outputs": [
    {
     "data": {
      "text/html": [
       "<div>\n",
       "<style scoped>\n",
       "    .dataframe tbody tr th:only-of-type {\n",
       "        vertical-align: middle;\n",
       "    }\n",
       "\n",
       "    .dataframe tbody tr th {\n",
       "        vertical-align: top;\n",
       "    }\n",
       "\n",
       "    .dataframe thead th {\n",
       "        text-align: right;\n",
       "    }\n",
       "</style>\n",
       "<table border=\"1\" class=\"dataframe\">\n",
       "  <thead>\n",
       "    <tr style=\"text-align: right;\">\n",
       "      <th></th>\n",
       "      <th>text</th>\n",
       "      <th>c1</th>\n",
       "    </tr>\n",
       "  </thead>\n",
       "  <tbody>\n",
       "    <tr>\n",
       "      <td>0</td>\n",
       "      <td>Hallo, ein Text. Ja, genau, hör dir diesen Tex...</td>\n",
       "      <td>0</td>\n",
       "    </tr>\n",
       "    <tr>\n",
       "      <td>1</td>\n",
       "      <td>Hallo, ein Text. Ja, genau, hör dir diesen Tex...</td>\n",
       "      <td>1</td>\n",
       "    </tr>\n",
       "    <tr>\n",
       "      <td>2</td>\n",
       "      <td>Hallo, ein Text. Ja, genau, hör dir diesen Tex...</td>\n",
       "      <td>2</td>\n",
       "    </tr>\n",
       "    <tr>\n",
       "      <td>3</td>\n",
       "      <td>Hallo, ein Text. Ja, genau, hör dir diesen Tex...</td>\n",
       "      <td>3</td>\n",
       "    </tr>\n",
       "    <tr>\n",
       "      <td>4</td>\n",
       "      <td>Hallo, ein Text. Ja, genau, hör dir diesen Tex...</td>\n",
       "      <td>4</td>\n",
       "    </tr>\n",
       "  </tbody>\n",
       "</table>\n",
       "</div>"
      ],
      "text/plain": [
       "                                                text  c1\n",
       "0  Hallo, ein Text. Ja, genau, hör dir diesen Tex...   0\n",
       "1  Hallo, ein Text. Ja, genau, hör dir diesen Tex...   1\n",
       "2  Hallo, ein Text. Ja, genau, hör dir diesen Tex...   2\n",
       "3  Hallo, ein Text. Ja, genau, hör dir diesen Tex...   3\n",
       "4  Hallo, ein Text. Ja, genau, hör dir diesen Tex...   4"
      ]
     },
     "execution_count": 7,
     "metadata": {},
     "output_type": "execute_result"
    }
   ],
   "source": [
    "data_frame['c1'] = int_list\n",
    "data_frame"
   ]
  },
  {
   "cell_type": "code",
   "execution_count": 10,
   "metadata": {},
   "outputs": [
    {
     "name": "stderr",
     "output_type": "stream",
     "text": [
      "/opt/anaconda3/lib/python3.7/site-packages/pandas/core/frame.py:7123: FutureWarning: Sorting because non-concatenation axis is not aligned. A future version\n",
      "of pandas will change to not sort by default.\n",
      "\n",
      "To accept the future behavior, pass 'sort=False'.\n",
      "\n",
      "To retain the current behavior and silence the warning, pass 'sort=True'.\n",
      "\n",
      "  sort=sort,\n"
     ]
    },
    {
     "data": {
      "text/html": [
       "<div>\n",
       "<style scoped>\n",
       "    .dataframe tbody tr th:only-of-type {\n",
       "        vertical-align: middle;\n",
       "    }\n",
       "\n",
       "    .dataframe tbody tr th {\n",
       "        vertical-align: top;\n",
       "    }\n",
       "\n",
       "    .dataframe thead th {\n",
       "        text-align: right;\n",
       "    }\n",
       "</style>\n",
       "<table border=\"1\" class=\"dataframe\">\n",
       "  <thead>\n",
       "    <tr style=\"text-align: right;\">\n",
       "      <th></th>\n",
       "      <th>c1</th>\n",
       "      <th>c2</th>\n",
       "      <th>text</th>\n",
       "      <th>text2</th>\n",
       "    </tr>\n",
       "  </thead>\n",
       "  <tbody>\n",
       "    <tr>\n",
       "      <td>0</td>\n",
       "      <td>0.0</td>\n",
       "      <td>NaN</td>\n",
       "      <td>Hallo, ein Text. Ja, genau, hör dir diesen Tex...</td>\n",
       "      <td>NaN</td>\n",
       "    </tr>\n",
       "    <tr>\n",
       "      <td>1</td>\n",
       "      <td>1.0</td>\n",
       "      <td>NaN</td>\n",
       "      <td>Hallo, ein Text. Ja, genau, hör dir diesen Tex...</td>\n",
       "      <td>NaN</td>\n",
       "    </tr>\n",
       "    <tr>\n",
       "      <td>2</td>\n",
       "      <td>2.0</td>\n",
       "      <td>NaN</td>\n",
       "      <td>Hallo, ein Text. Ja, genau, hör dir diesen Tex...</td>\n",
       "      <td>NaN</td>\n",
       "    </tr>\n",
       "    <tr>\n",
       "      <td>3</td>\n",
       "      <td>3.0</td>\n",
       "      <td>NaN</td>\n",
       "      <td>Hallo, ein Text. Ja, genau, hör dir diesen Tex...</td>\n",
       "      <td>NaN</td>\n",
       "    </tr>\n",
       "    <tr>\n",
       "      <td>4</td>\n",
       "      <td>4.0</td>\n",
       "      <td>NaN</td>\n",
       "      <td>Hallo, ein Text. Ja, genau, hör dir diesen Tex...</td>\n",
       "      <td>NaN</td>\n",
       "    </tr>\n",
       "    <tr>\n",
       "      <td>0</td>\n",
       "      <td>99.0</td>\n",
       "      <td>NaN</td>\n",
       "      <td>neuer text</td>\n",
       "      <td>NaN</td>\n",
       "    </tr>\n",
       "    <tr>\n",
       "      <td>1</td>\n",
       "      <td>199.0</td>\n",
       "      <td>NaN</td>\n",
       "      <td>noch neuererer text...</td>\n",
       "      <td>NaN</td>\n",
       "    </tr>\n",
       "    <tr>\n",
       "      <td>0</td>\n",
       "      <td>NaN</td>\n",
       "      <td>99.0</td>\n",
       "      <td>NaN</td>\n",
       "      <td>neuer text</td>\n",
       "    </tr>\n",
       "    <tr>\n",
       "      <td>1</td>\n",
       "      <td>NaN</td>\n",
       "      <td>199.0</td>\n",
       "      <td>NaN</td>\n",
       "      <td>noch neuererer text...</td>\n",
       "    </tr>\n",
       "  </tbody>\n",
       "</table>\n",
       "</div>"
      ],
      "text/plain": [
       "      c1     c2                                               text  \\\n",
       "0    0.0    NaN  Hallo, ein Text. Ja, genau, hör dir diesen Tex...   \n",
       "1    1.0    NaN  Hallo, ein Text. Ja, genau, hör dir diesen Tex...   \n",
       "2    2.0    NaN  Hallo, ein Text. Ja, genau, hör dir diesen Tex...   \n",
       "3    3.0    NaN  Hallo, ein Text. Ja, genau, hör dir diesen Tex...   \n",
       "4    4.0    NaN  Hallo, ein Text. Ja, genau, hör dir diesen Tex...   \n",
       "0   99.0    NaN                                         neuer text   \n",
       "1  199.0    NaN                             noch neuererer text...   \n",
       "0    NaN   99.0                                                NaN   \n",
       "1    NaN  199.0                                                NaN   \n",
       "\n",
       "                    text2  \n",
       "0                     NaN  \n",
       "1                     NaN  \n",
       "2                     NaN  \n",
       "3                     NaN  \n",
       "4                     NaN  \n",
       "0                     NaN  \n",
       "1                     NaN  \n",
       "0              neuer text  \n",
       "1  noch neuererer text...  "
      ]
     },
     "execution_count": 10,
     "metadata": {},
     "output_type": "execute_result"
    }
   ],
   "source": [
    "df2 = pd.DataFrame([['neuer text', 99], ['noch neuererer text...', 199]], columns=['text2', 'c2'])\n",
    "data_frame = data_frame.append(df2)\n",
    "data_frame"
   ]
  },
  {
   "cell_type": "code",
   "execution_count": 1,
   "metadata": {},
   "outputs": [],
   "source": [
    "from SessionConfigReader import SessionConfigReader"
   ]
  },
  {
   "cell_type": "code",
   "execution_count": 2,
   "metadata": {},
   "outputs": [
    {
     "data": {
      "text/plain": [
       "{'corpus_importer': ['TenKGNAD'],\n",
       " 'corpus_identifier': ['articles'],\n",
       " 'categories_identifier': ['categories'],\n",
       " 'stopwords_identifier': ['stopwords'],\n",
       " 'preprocessor': ['custom'],\n",
       " 'noise_remover': ['custom'],\n",
       " 'stopword_remover': ['custom'],\n",
       " 'additional_stopwords': ['ab'],\n",
       " 'lemmatizer': ['spacy-german'],\n",
       " 'train_test_splitter': ['custom1'],\n",
       " 'train_test_split_ratio': [0.5],\n",
       " 'train_test_split_random_state': [200, 'None'],\n",
       " 'vectorizer': ['gensim-word2vec', 'sklearn-tfidf'],\n",
       " 'word-vec_to_doc-vec': ['custom'],\n",
       " 'word2vec_size': [100],\n",
       " 'word2vec_window': [5],\n",
       " 'word2vec_min_count': [3],\n",
       " 'word2vec_workers': [4],\n",
       " 'vec_model_id': ['articles_train_word2vec_001'],\n",
       " 'feature_vec_dim': [100],\n",
       " 'keras_nn_model_id': ['articles_train_keras_nn_001'],\n",
       " 'keras_nn_layers': [[['dense', 2000, 'relu'],\n",
       "   ['dense', 2000, 'LeakyReLU'],\n",
       "   ['dense', 100, 'LeakyReLU']]],\n",
       " 'keras_nn_loss': ['cosine_proximity'],\n",
       " 'keras_nn_optimizer': ['adam'],\n",
       " 'keras_nn_metrics': ['accuracy'],\n",
       " 'keras_nn_epochs': [5],\n",
       " 'keras_nn_batch_size': [256],\n",
       " 'classifier': ['keras_nn'],\n",
       " 'classification_interpreter': ['custom1'],\n",
       " 'classification_interpreter_output_threshold': [0.66]}"
      ]
     },
     "execution_count": 2,
     "metadata": {},
     "output_type": "execute_result"
    }
   ],
   "source": [
    "conf = SessionConfigReader.get_config()\n",
    "conf"
   ]
  },
  {
   "cell_type": "code",
   "execution_count": 3,
   "metadata": {},
   "outputs": [],
   "source": [
    "SessionConfigReader.set_config(conf, config_id='somesubdir/myconf')"
   ]
  },
  {
   "cell_type": "code",
   "execution_count": 6,
   "metadata": {},
   "outputs": [],
   "source": [
    "json_f = {}\n",
    "la = list()\n",
    "la.append('some item')\n",
    "json_f['some_p'] = la\n",
    "SessionConfigReader.set_config(json_f, config_id='test/testconf')"
   ]
  },
  {
   "cell_type": "code",
   "execution_count": null,
   "metadata": {},
   "outputs": [],
   "source": []
  }
 ],
 "metadata": {
  "kernelspec": {
   "display_name": "Python 3",
   "language": "python",
   "name": "python3"
  },
  "language_info": {
   "codemirror_mode": {
    "name": "ipython",
    "version": 3
   },
   "file_extension": ".py",
   "mimetype": "text/x-python",
   "name": "python",
   "nbconvert_exporter": "python",
   "pygments_lexer": "ipython3",
   "version": "3.7.4"
  }
 },
 "nbformat": 4,
 "nbformat_minor": 2
}
